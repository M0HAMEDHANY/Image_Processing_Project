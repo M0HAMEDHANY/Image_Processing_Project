{
 "cells": [
  {
   "cell_type": "markdown",
   "id": "b199f764",
   "metadata": {
    "papermill": {
     "duration": 0.005016,
     "end_time": "2024-12-12T21:32:58.881022",
     "exception": false,
     "start_time": "2024-12-12T21:32:58.876006",
     "status": "completed"
    },
    "tags": []
   },
   "source": [
    "<h2> 1. Importing libraries </h2>"
   ]
  },
  {
   "cell_type": "code",
   "execution_count": 1,
   "id": "fcf4a8b0",
   "metadata": {
    "execution": {
     "iopub.execute_input": "2024-12-12T21:32:58.891547Z",
     "iopub.status.busy": "2024-12-12T21:32:58.891136Z",
     "iopub.status.idle": "2024-12-12T21:33:02.116128Z",
     "shell.execute_reply": "2024-12-12T21:33:02.114918Z"
    },
    "papermill": {
     "duration": 3.233427,
     "end_time": "2024-12-12T21:33:02.118927",
     "exception": false,
     "start_time": "2024-12-12T21:32:58.885500",
     "status": "completed"
    },
    "tags": []
   },
   "outputs": [],
   "source": [
    "import numpy as np\n",
    "import pandas as pd\n",
    "import matplotlib.pyplot as plt\n",
    "\n",
    "from sklearn.cluster import KMeans\n",
    "from sklearn.model_selection import train_test_split\n",
    "from sklearn.datasets import load_digits\n",
    "from sklearn.metrics import accuracy_score"
   ]
  },
  {
   "cell_type": "markdown",
   "id": "0133b288",
   "metadata": {
    "papermill": {
     "duration": 0.004568,
     "end_time": "2024-12-12T21:33:02.129498",
     "exception": false,
     "start_time": "2024-12-12T21:33:02.124930",
     "status": "completed"
    },
    "tags": []
   },
   "source": [
    "<h2> 2. Pre-Processing </h2>"
   ]
  },
  {
   "cell_type": "code",
   "execution_count": 2,
   "id": "ace243de",
   "metadata": {
    "execution": {
     "iopub.execute_input": "2024-12-12T21:33:02.140276Z",
     "iopub.status.busy": "2024-12-12T21:33:02.139654Z",
     "iopub.status.idle": "2024-12-12T21:33:02.168211Z",
     "shell.execute_reply": "2024-12-12T21:33:02.167016Z"
    },
    "papermill": {
     "duration": 0.036844,
     "end_time": "2024-12-12T21:33:02.170741",
     "exception": false,
     "start_time": "2024-12-12T21:33:02.133897",
     "status": "completed"
    },
    "tags": []
   },
   "outputs": [
    {
     "data": {
      "text/plain": [
       "dict_keys(['data', 'target', 'frame', 'feature_names', 'target_names', 'images', 'DESCR'])"
      ]
     },
     "execution_count": 2,
     "metadata": {},
     "output_type": "execute_result"
    }
   ],
   "source": [
    "df_dict = load_digits()\n",
    "df_dict.keys()"
   ]
  },
  {
   "cell_type": "code",
   "execution_count": 3,
   "id": "e4efa294",
   "metadata": {
    "execution": {
     "iopub.execute_input": "2024-12-12T21:33:02.182522Z",
     "iopub.status.busy": "2024-12-12T21:33:02.182132Z",
     "iopub.status.idle": "2024-12-12T21:33:02.191799Z",
     "shell.execute_reply": "2024-12-12T21:33:02.190244Z"
    },
    "papermill": {
     "duration": 0.01821,
     "end_time": "2024-12-12T21:33:02.194713",
     "exception": false,
     "start_time": "2024-12-12T21:33:02.176503",
     "status": "completed"
    },
    "tags": []
   },
   "outputs": [
    {
     "name": "stdout",
     "output_type": "stream",
     "text": [
      "Target = 0\n",
      "Pixel values =\n",
      " [[ 0.  0.  5. 13.  9.  1.  0.  0.]\n",
      " [ 0.  0. 13. 15. 10. 15.  5.  0.]\n",
      " [ 0.  3. 15.  2.  0. 11.  8.  0.]\n",
      " [ 0.  4. 12.  0.  0.  8.  8.  0.]\n",
      " [ 0.  5.  8.  0.  0.  9.  8.  0.]\n",
      " [ 0.  4. 11.  0.  1. 12.  7.  0.]\n",
      " [ 0.  2. 14.  5. 10. 12.  0.  0.]\n",
      " [ 0.  0.  6. 13. 10.  0.  0.  0.]]\n"
     ]
    }
   ],
   "source": [
    "X = df_dict['images'] \n",
    "y = df_dict['target']\n",
    "\n",
    "print(\"Target =\", y[0])\n",
    "print(\"Pixel values =\\n\", X[0])"
   ]
  },
  {
   "cell_type": "code",
   "execution_count": 4,
   "id": "b07c2635",
   "metadata": {
    "execution": {
     "iopub.execute_input": "2024-12-12T21:33:02.206208Z",
     "iopub.status.busy": "2024-12-12T21:33:02.205761Z",
     "iopub.status.idle": "2024-12-12T21:33:02.443556Z",
     "shell.execute_reply": "2024-12-12T21:33:02.442150Z"
    },
    "papermill": {
     "duration": 0.246253,
     "end_time": "2024-12-12T21:33:02.446085",
     "exception": false,
     "start_time": "2024-12-12T21:33:02.199832",
     "status": "completed"
    },
    "tags": []
   },
   "outputs": [
    {
     "name": "stdout",
     "output_type": "stream",
     "text": [
      "Target = 1\n"
     ]
    },
    {
     "data": {
      "image/png": "[encoded data removed]",
      "text/plain": [
       "<Figure size 640x480 with 1 Axes>"
      ]
     },
     "metadata": {},
     "output_type": "display_data"
    }
   ],
   "source": [
    "# Plotting a random image\n",
    "\n",
    "plt.imshow(X[42])\n",
    "print(\"Target =\", y[42])\n",
    "plt.show()"
   ]
  },
  {
   "cell_type": "code",
   "execution_count": 5,
   "id": "06801176",
   "metadata": {
    "execution": {
     "iopub.execute_input": "2024-12-12T21:33:02.458052Z",
     "iopub.status.busy": "2024-12-12T21:33:02.457009Z",
     "iopub.status.idle": "2024-12-12T21:33:02.463752Z",
     "shell.execute_reply": "2024-12-12T21:33:02.462408Z"
    },
    "papermill": {
     "duration": 0.016022,
     "end_time": "2024-12-12T21:33:02.466922",
     "exception": false,
     "start_time": "2024-12-12T21:33:02.450900",
     "status": "completed"
    },
    "tags": []
   },
   "outputs": [
    {
     "name": "stdout",
     "output_type": "stream",
     "text": [
      "Size of image array before flatten: 8 * 8\n",
      "Size of image array after flatten: 64 * 1\n"
     ]
    }
   ],
   "source": [
    "# We will use the flattened version of images array (1D version) to fit inside the model\n",
    "X_flattened = df_dict[\"data\"]\n",
    "\n",
    "old_dim = X[0].shape\n",
    "\n",
    "print(f\"Size of image array before flatten: {old_dim[0]} * {old_dim[1]}\")\n",
    "print(f\"Size of image array after flatten: {len(X_flattened[0])} * 1\")"
   ]
  },
  {
   "cell_type": "code",
   "execution_count": 6,
   "id": "688d2a09",
   "metadata": {
    "execution": {
     "iopub.execute_input": "2024-12-12T21:33:02.478510Z",
     "iopub.status.busy": "2024-12-12T21:33:02.478102Z",
     "iopub.status.idle": "2024-12-12T21:33:02.484375Z",
     "shell.execute_reply": "2024-12-12T21:33:02.482887Z"
    },
    "papermill": {
     "duration": 0.014658,
     "end_time": "2024-12-12T21:33:02.486709",
     "exception": false,
     "start_time": "2024-12-12T21:33:02.472051",
     "status": "completed"
    },
    "tags": []
   },
   "outputs": [
    {
     "name": "stdout",
     "output_type": "stream",
     "text": [
      "Number of images: 1797\n"
     ]
    }
   ],
   "source": [
    "print(\"Number of images:\", X.shape[0])"
   ]
  },
  {
   "cell_type": "code",
   "execution_count": 7,
   "id": "3ed7a451",
   "metadata": {
    "execution": {
     "iopub.execute_input": "2024-12-12T21:33:02.499323Z",
     "iopub.status.busy": "2024-12-12T21:33:02.498018Z",
     "iopub.status.idle": "2024-12-12T21:33:02.506444Z",
     "shell.execute_reply": "2024-12-12T21:33:02.504991Z"
    },
    "papermill": {
     "duration": 0.01703,
     "end_time": "2024-12-12T21:33:02.508749",
     "exception": false,
     "start_time": "2024-12-12T21:33:02.491719",
     "status": "completed"
    },
    "tags": []
   },
   "outputs": [
    {
     "name": "stdout",
     "output_type": "stream",
     "text": [
      "[0.     0.     0.3125 0.8125 0.5625 0.0625 0.     0.     0.     0.\n",
      " 0.8125 0.9375 0.625  0.9375 0.3125 0.     0.     0.1875 0.9375 0.125\n",
      " 0.     0.6875 0.5    0.     0.     0.25   0.75   0.     0.     0.5\n",
      " 0.5    0.     0.     0.3125 0.5    0.     0.     0.5625 0.5    0.\n",
      " 0.     0.25   0.6875 0.     0.0625 0.75   0.4375 0.     0.     0.125\n",
      " 0.875  0.3125 0.625  0.75   0.     0.     0.     0.     0.375  0.8125\n",
      " 0.625  0.     0.     0.    ]\n"
     ]
    }
   ],
   "source": [
    "# Normailizing pixel values [0, 1] to give a better model accuracy model\n",
    "\n",
    "mx_val = X_flattened.max()\n",
    "X_flattened = X_flattened / mx_val\n",
    "\n",
    "print(X_flattened[0])"
   ]
  },
  {
   "cell_type": "markdown",
   "id": "8e2df9f7",
   "metadata": {
    "papermill": {
     "duration": 0.004998,
     "end_time": "2024-12-12T21:33:02.518769",
     "exception": false,
     "start_time": "2024-12-12T21:33:02.513771",
     "status": "completed"
    },
    "tags": []
   },
   "source": [
    "<h2> 3. Model Training </h2>"
   ]
  },
  {
   "cell_type": "code",
   "execution_count": 8,
   "id": "771b7db0",
   "metadata": {
    "execution": {
     "iopub.execute_input": "2024-12-12T21:33:02.530302Z",
     "iopub.status.busy": "2024-12-12T21:33:02.529924Z",
     "iopub.status.idle": "2024-12-12T21:33:03.901935Z",
     "shell.execute_reply": "2024-12-12T21:33:03.900706Z"
    },
    "papermill": {
     "duration": 1.380975,
     "end_time": "2024-12-12T21:33:03.904767",
     "exception": false,
     "start_time": "2024-12-12T21:33:02.523792",
     "status": "completed"
    },
    "tags": []
   },
   "outputs": [
    {
     "name": "stderr",
     "output_type": "stream",
     "text": [
      "/opt/conda/lib/python3.10/site-packages/sklearn/cluster/_kmeans.py:870: FutureWarning: The default value of `n_init` will change from 10 to 'auto' in 1.4. Set the value of `n_init` explicitly to suppress the warning\n",
      "  warnings.warn(\n"
     ]
    },
    {
     "data": {
      "text/html": [
       "<style>#sk-container-id-1 {color: black;background-color: white;}#sk-container-id-1 pre{padding: 0;}#sk-container-id-1 div.sk-toggleable {background-color: white;}#sk-container-id-1 label.sk-toggleable__label {cursor: pointer;display: block;width: 100%;margin-bottom: 0;padding: 0.3em;box-sizing: border-box;text-align: center;}#sk-container-id-1 label.sk-toggleable__label-arrow:before {content: \"▸\";float: left;margin-right: 0.25em;color: #696969;}#sk-container-id-1 label.sk-toggleable__label-arrow:hover:before {color: black;}#sk-container-id-1 div.sk-estimator:hover label.sk-toggleable__label-arrow:before {color: black;}#sk-container-id-1 div.sk-toggleable__content {max-height: 0;max-width: 0;overflow: hidden;text-align: left;background-color: #f0f8ff;}#sk-container-id-1 div.sk-toggleable__content pre {margin: 0.2em;color: black;border-radius: 0.25em;background-color: #f0f8ff;}#sk-container-id-1 input.sk-toggleable__control:checked~div.sk-toggleable__content {max-height: 200px;max-width: 100%;overflow: auto;}#sk-container-id-1 input.sk-toggleable__control:checked~label.sk-toggleable__label-arrow:before {content: \"▾\";}#sk-container-id-1 div.sk-estimator input.sk-toggleable__control:checked~label.sk-toggleable__label {background-color: #d4ebff;}#sk-container-id-1 div.sk-label input.sk-toggleable__control:checked~label.sk-toggleable__label {background-color: #d4ebff;}#sk-container-id-1 input.sk-hidden--visually {border: 0;clip: rect(1px 1px 1px 1px);clip: rect(1px, 1px, 1px, 1px);height: 1px;margin: -1px;overflow: hidden;padding: 0;position: absolute;width: 1px;}#sk-container-id-1 div.sk-estimator {font-family: monospace;background-color: #f0f8ff;border: 1px dotted black;border-radius: 0.25em;box-sizing: border-box;margin-bottom: 0.5em;}#sk-container-id-1 div.sk-estimator:hover {background-color: #d4ebff;}#sk-container-id-1 div.sk-parallel-item::after {content: \"\";width: 100%;border-bottom: 1px solid gray;flex-grow: 1;}#sk-container-id-1 div.sk-label:hover label.sk-toggleable__label {background-color: #d4ebff;}#sk-container-id-1 div.sk-serial::before {content: \"\";position: absolute;border-left: 1px solid gray;box-sizing: border-box;top: 0;bottom: 0;left: 50%;z-index: 0;}#sk-container-id-1 div.sk-serial {display: flex;flex-direction: column;align-items: center;background-color: white;padding-right: 0.2em;padding-left: 0.2em;position: relative;}#sk-container-id-1 div.sk-item {position: relative;z-index: 1;}#sk-container-id-1 div.sk-parallel {display: flex;align-items: stretch;justify-content: center;background-color: white;position: relative;}#sk-container-id-1 div.sk-item::before, #sk-container-id-1 div.sk-parallel-item::before {content: \"\";position: absolute;border-left: 1px solid gray;box-sizing: border-box;top: 0;bottom: 0;left: 50%;z-index: -1;}#sk-container-id-1 div.sk-parallel-item {display: flex;flex-direction: column;z-index: 1;position: relative;background-color: white;}#sk-container-id-1 div.sk-parallel-item:first-child::after {align-self: flex-end;width: 50%;}#sk-container-id-1 div.sk-parallel-item:last-child::after {align-self: flex-start;width: 50%;}#sk-container-id-1 div.sk-parallel-item:only-child::after {width: 0;}#sk-container-id-1 div.sk-dashed-wrapped {border: 1px dashed gray;margin: 0 0.4em 0.5em 0.4em;box-sizing: border-box;padding-bottom: 0.4em;background-color: white;}#sk-container-id-1 div.sk-label label {font-family: monospace;font-weight: bold;display: inline-block;line-height: 1.2em;}#sk-container-id-1 div.sk-label-container {text-align: center;}#sk-container-id-1 div.sk-container {/* jupyter's `normalize.less` sets `[hidden] { display: none; }` but bootstrap.min.css set `[hidden] { display: none !important; }` so we also need the `!important` here to be able to override the default hidden behavior on the sphinx rendered scikit-learn.org. See: https://github.com/scikit-learn/scikit-learn/issues/21755 */display: inline-block !important;position: relative;}#sk-container-id-1 div.sk-text-repr-fallback {display: none;}</style><div id=\"sk-container-id-1\" class=\"sk-top-container\"><div class=\"sk-text-repr-fallback\"><pre>KMeans(n_clusters=10, random_state=5)</pre><b>In a Jupyter environment, please rerun this cell to show the HTML representation or trust the notebook. <br />On GitHub, the HTML representation is unable to render, please try loading this page with nbviewer.org.</b></div><div class=\"sk-container\" hidden><div class=\"sk-item\"><div class=\"sk-estimator sk-toggleable\"><input class=\"sk-toggleable__control sk-hidden--visually\" id=\"sk-estimator-id-1\" type=\"checkbox\" checked><label for=\"sk-estimator-id-1\" class=\"sk-toggleable__label sk-toggleable__label-arrow\">KMeans</label><div class=\"sk-toggleable__content\"><pre>KMeans(n_clusters=10, random_state=5)</pre></div></div></div></div></div>"
      ],
      "text/plain": [
       "KMeans(n_clusters=10, random_state=5)"
      ]
     },
     "execution_count": 8,
     "metadata": {},
     "output_type": "execute_result"
    }
   ],
   "source": [
    "model = KMeans(n_clusters = 10, random_state = 5)\n",
    "model.fit(X_flattened)"
   ]
  },
  {
   "cell_type": "code",
   "execution_count": 9,
   "id": "81a9f1d5",
   "metadata": {
    "execution": {
     "iopub.execute_input": "2024-12-12T21:33:03.919512Z",
     "iopub.status.busy": "2024-12-12T21:33:03.919094Z",
     "iopub.status.idle": "2024-12-12T21:33:03.925381Z",
     "shell.execute_reply": "2024-12-12T21:33:03.924151Z"
    },
    "papermill": {
     "duration": 0.015593,
     "end_time": "2024-12-12T21:33:03.927502",
     "exception": false,
     "start_time": "2024-12-12T21:33:03.911909",
     "status": "completed"
    },
    "tags": []
   },
   "outputs": [
    {
     "name": "stdout",
     "output_type": "stream",
     "text": [
      "First five clusters: [6 0 0 2 3]\n"
     ]
    }
   ],
   "source": [
    "y_pred = model.labels_\n",
    "print(\"First five clusters:\", y_pred[:5])"
   ]
  },
  {
   "cell_type": "markdown",
   "id": "5d7b6c40",
   "metadata": {
    "papermill": {
     "duration": 0.004945,
     "end_time": "2024-12-12T21:33:03.937858",
     "exception": false,
     "start_time": "2024-12-12T21:33:03.932913",
     "status": "completed"
    },
    "tags": []
   },
   "source": [
    "<h2> 4. Mapping clusters to their corresponding digit numbers </h2>"
   ]
  },
  {
   "cell_type": "code",
   "execution_count": 10,
   "id": "ffa8c7a9",
   "metadata": {
    "execution": {
     "iopub.execute_input": "2024-12-12T21:33:03.949977Z",
     "iopub.status.busy": "2024-12-12T21:33:03.949586Z",
     "iopub.status.idle": "2024-12-12T21:33:03.955534Z",
     "shell.execute_reply": "2024-12-12T21:33:03.954240Z"
    },
    "papermill": {
     "duration": 0.014706,
     "end_time": "2024-12-12T21:33:03.957872",
     "exception": false,
     "start_time": "2024-12-12T21:33:03.943166",
     "status": "completed"
    },
    "tags": []
   },
   "outputs": [],
   "source": [
    "def most_common_digit(cluster):\n",
    "\n",
    "    cluster_indices = np.where(y_pred == cluster)\n",
    "    true_digits = y[cluster_indices]\n",
    "\n",
    "    frequencies = np.bincount(true_digits)\n",
    "    most_common = frequencies.argmax()\n",
    "\n",
    "    return most_common"
   ]
  },
  {
   "cell_type": "code",
   "execution_count": 11,
   "id": "56834c0d",
   "metadata": {
    "execution": {
     "iopub.execute_input": "2024-12-12T21:33:03.970262Z",
     "iopub.status.busy": "2024-12-12T21:33:03.969827Z",
     "iopub.status.idle": "2024-12-12T21:33:03.978431Z",
     "shell.execute_reply": "2024-12-12T21:33:03.976840Z"
    },
    "papermill": {
     "duration": 0.018176,
     "end_time": "2024-12-12T21:33:03.981391",
     "exception": false,
     "start_time": "2024-12-12T21:33:03.963215",
     "status": "completed"
    },
    "tags": []
   },
   "outputs": [
    {
     "name": "stdout",
     "output_type": "stream",
     "text": [
      "Cluster = 0, Most Common Digit = 8\n",
      "Cluster = 1, Most Common Digit = 6\n",
      "Cluster = 2, Most Common Digit = 3\n",
      "Cluster = 3, Most Common Digit = 4\n",
      "Cluster = 4, Most Common Digit = 2\n",
      "Cluster = 5, Most Common Digit = 9\n",
      "Cluster = 6, Most Common Digit = 0\n",
      "Cluster = 7, Most Common Digit = 7\n",
      "Cluster = 8, Most Common Digit = 1\n",
      "Cluster = 9, Most Common Digit = 5\n"
     ]
    }
   ],
   "source": [
    "edits = []\n",
    "\n",
    "for cluster in range(10):\n",
    "\n",
    "    # Storing the most common digit in a cluster in the edits list\n",
    "    \n",
    "    most_common = most_common_digit(cluster)\n",
    "    print(f\"Cluster = {cluster}, Most Common Digit = {most_common}\")\n",
    "    \n",
    "    edits.append(most_common)"
   ]
  },
  {
   "cell_type": "code",
   "execution_count": 12,
   "id": "c03d5adb",
   "metadata": {
    "execution": {
     "iopub.execute_input": "2024-12-12T21:33:03.994630Z",
     "iopub.status.busy": "2024-12-12T21:33:03.994227Z",
     "iopub.status.idle": "2024-12-12T21:33:04.000026Z",
     "shell.execute_reply": "2024-12-12T21:33:03.999023Z"
    },
    "papermill": {
     "duration": 0.014866,
     "end_time": "2024-12-12T21:33:04.002399",
     "exception": false,
     "start_time": "2024-12-12T21:33:03.987533",
     "status": "completed"
    },
    "tags": []
   },
   "outputs": [],
   "source": [
    "# Cluster number -> most common digit found in it\n",
    "\n",
    "y_pred = [edits[cluster] for cluster in y_pred]\n",
    "y_pred = np.array(y_pred)"
   ]
  },
  {
   "cell_type": "markdown",
   "id": "853bf858",
   "metadata": {
    "papermill": {
     "duration": 0.005258,
     "end_time": "2024-12-12T21:33:04.013188",
     "exception": false,
     "start_time": "2024-12-12T21:33:04.007930",
     "status": "completed"
    },
    "tags": []
   },
   "source": [
    "<h2> 5. Evaluating model's accuracy </h2>"
   ]
  },
  {
   "cell_type": "code",
   "execution_count": 13,
   "id": "cfd0357e",
   "metadata": {
    "execution": {
     "iopub.execute_input": "2024-12-12T21:33:04.026593Z",
     "iopub.status.busy": "2024-12-12T21:33:04.026179Z",
     "iopub.status.idle": "2024-12-12T21:33:04.033648Z",
     "shell.execute_reply": "2024-12-12T21:33:04.032252Z"
    },
    "papermill": {
     "duration": 0.017543,
     "end_time": "2024-12-12T21:33:04.036224",
     "exception": false,
     "start_time": "2024-12-12T21:33:04.018681",
     "status": "completed"
    },
    "tags": []
   },
   "outputs": [
    {
     "name": "stdout",
     "output_type": "stream",
     "text": [
      "Cluster = 0, Most Common Digit = 0\n",
      "Cluster = 1, Most Common Digit = 1\n",
      "Cluster = 2, Most Common Digit = 2\n",
      "Cluster = 3, Most Common Digit = 3\n",
      "Cluster = 4, Most Common Digit = 4\n",
      "Cluster = 5, Most Common Digit = 5\n",
      "Cluster = 6, Most Common Digit = 6\n",
      "Cluster = 7, Most Common Digit = 7\n",
      "Cluster = 8, Most Common Digit = 8\n",
      "Cluster = 9, Most Common Digit = 9\n"
     ]
    }
   ],
   "source": [
    "for cluster in range(10):\n",
    "    print(f\"Cluster = {cluster}, Most Common Digit = {most_common_digit(cluster)}\")"
   ]
  },
  {
   "cell_type": "code",
   "execution_count": 14,
   "id": "d2e60e8a",
   "metadata": {
    "execution": {
     "iopub.execute_input": "2024-12-12T21:33:04.049116Z",
     "iopub.status.busy": "2024-12-12T21:33:04.048678Z",
     "iopub.status.idle": "2024-12-12T21:33:04.057170Z",
     "shell.execute_reply": "2024-12-12T21:33:04.055678Z"
    },
    "papermill": {
     "duration": 0.017476,
     "end_time": "2024-12-12T21:33:04.059215",
     "exception": false,
     "start_time": "2024-12-12T21:33:04.041739",
     "status": "completed"
    },
    "tags": []
   },
   "outputs": [
    {
     "name": "stdout",
     "output_type": "stream",
     "text": [
      "Accuracy = 79.13%\n"
     ]
    }
   ],
   "source": [
    "accuracy = round(accuracy_score(y, y_pred) * 100, 2)\n",
    "print(f\"Accuracy = {accuracy}%\")"
   ]
  },
  {
   "cell_type": "markdown",
   "id": "eef864be",
   "metadata": {
    "papermill": {
     "duration": 0.005366,
     "end_time": "2024-12-12T21:33:04.070132",
     "exception": false,
     "start_time": "2024-12-12T21:33:04.064766",
     "status": "completed"
    },
    "tags": []
   },
   "source": [
    "<h2> 6. Plotting the results </h2>"
   ]
  },
  {
   "cell_type": "code",
   "execution_count": 15,
   "id": "4ab5d52b",
   "metadata": {
    "execution": {
     "iopub.execute_input": "2024-12-12T21:33:04.085285Z",
     "iopub.status.busy": "2024-12-12T21:33:04.084833Z",
     "iopub.status.idle": "2024-12-12T21:33:04.983187Z",
     "shell.execute_reply": "2024-12-12T21:33:04.981902Z"
    },
    "papermill": {
     "duration": 0.909639,
     "end_time": "2024-12-12T21:33:04.985616",
     "exception": false,
     "start_time": "2024-12-12T21:33:04.075977",
     "status": "completed"
    },
    "tags": []
   },
   "outputs": [
    {
     "data": {
      "image/png": "[encoded data removed]",
      "text/plain": [
       "<Figure size 640x480 with 10 Axes>"
      ]
     },
     "metadata": {},
     "output_type": "display_data"
    }
   ],
   "source": [
    "for cluster in range(10):\n",
    "\n",
    "    plt.subplot(2, 5, cluster + 1)\n",
    "    plt.xlabel(f\"digit = {y_pred[cluster + 10]}\")\n",
    "    plt.imshow(X[cluster + 10])\n",
    "\n",
    "plt.show()"
   ]
  }
 ],
 "metadata": {
  "kaggle": {
   "accelerator": "none",
   "dataSources": [],
   "dockerImageVersionId": 30804,
   "isGpuEnabled": false,
   "isInternetEnabled": true,
   "language": "python",
   "sourceType": "notebook"
  },
  "kernelspec": {
   "display_name": "Python 3",
   "language": "python",
   "name": "python3"
  },
  "language_info": {
   "codemirror_mode": {
    "name": "ipython",
    "version": 3
   },
   "file_extension": ".py",
   "mimetype": "text/x-python",
   "name": "python",
   "nbconvert_exporter": "python",
   "pygments_lexer": "ipython3",
   "version": "3.10.14"
  },
  "papermill": {
   "default_parameters": {},
   "duration": 9.698419,
   "end_time": "2024-12-12T21:33:05.713802",
   "environment_variables": {},
   "exception": null,
   "input_path": "__notebook__.ipynb",
   "output_path": "__notebook__.ipynb",
   "parameters": {},
   "start_time": "2024-12-12T21:32:56.015383",
   "version": "2.6.0"
  }
 },
 "nbformat": 4,
 "nbformat_minor": 5
}
